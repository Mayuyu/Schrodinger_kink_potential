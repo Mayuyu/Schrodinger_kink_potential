{
 "cells": [
  {
   "cell_type": "code",
   "execution_count": 6,
   "metadata": {
    "collapsed": true
   },
   "outputs": [],
   "source": [
    "%matplotlib inline\n",
    "import numpy as np\n",
    "import matplotlib.pyplot as plt\n",
    "from scipy import linalg, integrate, special\n",
    "from scipy.fftpack import fft, dct\n",
    "from math import pi"
   ]
  },
  {
   "cell_type": "code",
   "execution_count": 7,
   "metadata": {},
   "outputs": [
    {
     "name": "stdout",
     "output_type": "stream",
     "text": [
      "0.33.0\n"
     ]
    }
   ],
   "source": [
    "import numba\n",
    "from numba import jit\n",
    "print(numba.__version__)"
   ]
  },
  {
   "cell_type": "code",
   "execution_count": 8,
   "metadata": {},
   "outputs": [
    {
     "data": {
      "text/plain": [
       "(0.0065911393574607166,\n",
       " -0.011912976705951313,\n",
       " 14.037328963730229,\n",
       " 22.922214966382171)"
      ]
     },
     "execution_count": 8,
     "metadata": {},
     "output_type": "execute_result"
    }
   ],
   "source": [
    "special.airy(3.)"
   ]
  },
  {
   "cell_type": "code",
   "execution_count": null,
   "metadata": {
    "collapsed": true
   },
   "outputs": [],
   "source": [
    "class SemiClassicalShcrodinger:\n",
    "    \n",
    "    \n",
    "    def __init__(self, dx, dv, dt, ):\n",
    "        "
   ]
  },
  {
   "cell_type": "code",
   "execution_count": 48,
   "metadata": {
    "collapsed": true
   },
   "outputs": [],
   "source": [
    "def Pj(p, V_j, eps):\n",
    "    P = np.ones((2,2), dtype=complex)\n",
    "    P[1,0] = 1j*np.sqrt(p**2 - 2*V_j)/eps\n",
    "    P[1,1] = -P[1,0]\n",
    "    return P"
   ]
  },
  {
   "cell_type": "code",
   "execution_count": null,
   "metadata": {
    "collapsed": true
   },
   "outputs": [],
   "source": [
    "def M_j():\n",
    "    s_j = \n",
    "    b_j = x_j + p**2/2*s_j - V_j/s_j\n",
    "    M = np.zeros((2,2), dtype=complex)\n",
    "    "
   ]
  },
  {
   "cell_type": "code",
   "execution_count": 16,
   "metadata": {
    "collapsed": true
   },
   "outputs": [],
   "source": [
    "EPS = 1e-8\n",
    "# Computation domain\n",
    "xmin, xmax = -1.5, 1.5\n",
    "vmin, vmax = -1.5, 1.5\n",
    "dx, dv = 0.03, 0.03\n",
    "x = np.arange(xmin-dx/2, xmax-dx/2, dx)\n",
    "v = np.arange(vmin-dv/2, vmax-dv/2, dv)\n",
    "# Meshgrids\n",
    "X, V = np.meshgrid(x, v)"
   ]
  },
  {
   "cell_type": "code",
   "execution_count": 17,
   "metadata": {
    "collapsed": true
   },
   "outputs": [],
   "source": [
    "# Initial data\n",
    "def f0(X , V):\n",
    "    return (X <= 0)*(V > 0)*(X**2 + V**2 < 1) + (X >= 0)*(V < 0)*(X**2 + V**2 < 1)"
   ]
  },
  {
   "cell_type": "code",
   "execution_count": 18,
   "metadata": {
    "collapsed": true
   },
   "outputs": [],
   "source": [
    "# The exact solution at T = 1\n",
    "def f1(X, V):\n",
    "    return ((X >= 0)*(V < np.sqrt(0.4))*(V > X) + \n",
    "            (X >= 0)*(V < 0)*(X < 1)*(V > 0.5*(X - np.sqrt(2 - X**2))) + \n",
    "            (X <= 0)*(V < X)*(V > -np.sqrt(0.6))*(X < (1 - np.sqrt(0.6 - V**2)/np.sqrt(V**2 + 0.4))*V) + \n",
    "            (X <= 0)*(V > 0)*(X > -1)*(V < 0.5*(X + np.sqrt(2 - X**2))) + \n",
    "            (X >=0 )*(V > np.sqrt(0.4))*(V > X)*(V < np.sqrt(1.4))*(X > (1 - np.sqrt(1.4 - V**2)/np.sqrt(V**2 - 0.4))*V))"
   ]
  },
  {
   "cell_type": "code",
   "execution_count": 19,
   "metadata": {},
   "outputs": [
    {
     "name": "stderr",
     "output_type": "stream",
     "text": [
      "/Users/zheng/anaconda/lib/python3.6/site-packages/ipykernel/__main__.py:6: RuntimeWarning: invalid value encountered in sqrt\n",
      "/Users/zheng/anaconda/lib/python3.6/site-packages/ipykernel/__main__.py:6: RuntimeWarning: invalid value encountered in greater\n",
      "/Users/zheng/anaconda/lib/python3.6/site-packages/ipykernel/__main__.py:6: RuntimeWarning: invalid value encountered in less\n",
      "/Users/zheng/anaconda/lib/python3.6/site-packages/ipykernel/__main__.py:7: RuntimeWarning: invalid value encountered in sqrt\n",
      "/Users/zheng/anaconda/lib/python3.6/site-packages/ipykernel/__main__.py:7: RuntimeWarning: invalid value encountered in greater\n"
     ]
    },
    {
     "data": {
      "image/png": "[encoded data removed]",
      "text/plain": [
       "<matplotlib.figure.Figure at 0x115ac4240>"
      ]
     },
     "metadata": {},
     "output_type": "display_data"
    }
   ],
   "source": [
    "plt.contourf(X, V, f1(X, V))\n",
    "plt.savefig('exact.pdf')"
   ]
  },
  {
   "cell_type": "code",
   "execution_count": 20,
   "metadata": {
    "collapsed": true
   },
   "outputs": [],
   "source": [
    "def s_lim(sl, sr):\n",
    "    return np.tan(0.5*(np.arctan(sl) + np.arctan(sr)))"
   ]
  },
  {
   "cell_type": "code",
   "execution_count": 104,
   "metadata": {
    "collapsed": true
   },
   "outputs": [],
   "source": [
    "# Potential\n",
    "def V_m(x):\n",
    "    return 0.2*(x<EPS)\n",
    "\n",
    "def V_p(x):\n",
    "    return 0.2*(x<-EPS)"
   ]
  },
  {
   "cell_type": "code",
   "execution_count": 105,
   "metadata": {
    "collapsed": true
   },
   "outputs": [],
   "source": [
    "def iter(f,z):\n",
    "    tmp = np.zeros(f.shape)\n",
    "    for i in np.arange(2, f.shape[1]-2):\n",
    "        for j in np.arange(2, f.shape[0]-2):\n",
    "            if v[j] > 0:\n",
    "                f_m = f[j,i] + s_lim((f[j,i]-f[j,i-1])/dx, (f[j,i+1]-f[j,i])/dx)*dx/2\n",
    "                DV = V_p(x[i]-dx/2) - V_m(x[i]-dx/2)\n",
    "                if np.abs(DV) < EPS:\n",
    "                    f_p = f[j,i-1] + s_lim((f[j,i-1]-f[j,i-2])/dx,(f[j,i]-f[j,i-1])/dx)*dx/2\n",
    "                elif v[j]**2 + 2*DV >= 0:\n",
    "                    v_m = np.sqrt(v[j]**2 + 2*DV)\n",
    "                    k = np.searchsorted(v, v_m, side='right') - 1\n",
    "                    if k == f.shape[0]-1:\n",
    "                        f_p = 0\n",
    "                    else:\n",
    "                        f_p = (f[k,i-1]+s_lim((f[k,i-1]-f[k,i-2])/dx,(f[k,i]-f[k,i-1])/dx)*dx/2)*(v[k+1]-v_m)/dv + \\\n",
    "                        (f[k+1,i-1]+s_lim((f[k+1,i-1]-f[k+1,i-2])/dx,(f[k+1,i]-f[k+1,i-1])/dx)*dx/2)*(v_m-v[k])/dv\n",
    "                else:\n",
    "                    k = np.searchsorted(v, -v[j])\n",
    "                    f_p = f[k,i] - s_lim((f[k,i]-f[k,i-1])/dx,(f[k,i+1]-f[k,i])/dx)*dx/2\n",
    "            else:\n",
    "                f_p = f[j,i] - s_lim((f[j,i]-f[j,i-1])/dx, (f[j,i+1]-f[j,i])/dx)*dx/2\n",
    "                DV = V_m(x[i]+dx/2) - V_p(x[i]+dx/2)\n",
    "                if np.abs(DV) < EPS:\n",
    "                    f_m = f[j,i+1] - s_lim((f[j,i+1]-f[j,i])/dx, (f[j,i+2]-f[j,i+1])/dx)*dx/2\n",
    "                elif v[j]**2 + 2*DV >= 0:\n",
    "                    v_p = -np.sqrt(v[j]**2 + 2*DV)\n",
    "                    k = np.searchsorted(v, v_p, side='right') - 1\n",
    "                    if k ==0:\n",
    "                        f_m = 0\n",
    "                    else:\n",
    "                        f_m = (f[k,i+1] - s_lim((f[k,i+1]-f[k,i])/dx,(f[k,i+2]-f[k,i+1])/dx)*dx/2)*(v[k+1]-v_p)/dv + \\\n",
    "                        (f[k+1,i+1] - s_lim((f[k+1,i+1]-f[k+1,i])/dx,(f[k+1,i+2]-f[k+1,i+1])/dx)*dx/2)*(v_p-v[k])/dv\n",
    "                else:\n",
    "                    k = np.searchsorted(v, -v[j])\n",
    "                    f_m = f[k,i] + s_lim((f[k,i]-f[k,i-1])/dx,(f[k,i+1]-f[k,i])/dx)*dx/2\n",
    "                    \n",
    "            tmp[j,i] = f[j,i] - v[j]*(f_m-f_p)*dt/dx + ((V_m(x[i]+dx/2)-V_p(x[i]-dx/2))/dx+0.1*z)*(f[j+1,i]-f[j-1,i])*dt/(2*dv) + \\\n",
    "                       ((V_m(x[i]+dx/2)-V_p(x[i]-dx/2))/dx+0.1*z)**2*(f[j+1,i]-2*f[j,i]+f[j-1,i])*dt**2/(2*dv**2)\n",
    "                \n",
    "    return tmp"
   ]
  },
  {
   "cell_type": "code",
   "execution_count": 106,
   "metadata": {
    "collapsed": true
   },
   "outputs": [],
   "source": [
    "def iter_fast(f,z):\n",
    "    tmp = np.zeros(f.shape)\n",
    "    fp_1 = f[2:-2,2:-2] + s_lim((f[2:-2,2:-2]-f[2:-2,1:-3])/dx, (f[2:-2,3:-1]-f[2:-2,2:-2])/dx)*dx/2\n",
    "    fp_2 = f[2:-2,1:-3] + s_lim((f[2:-2,1:-3]-f[2:-2,:-4])/dx, (f[2:-2,2:-2]-f[2:-2,1:-3])/dx)*dx/2\n",
    "    fm_1 = f[2:-2,3:-1] - s_lim((f[2:-2,3:-1]-f[2:-2,2:-2])/dx, (f[2:-2,4:]-f[2:-2,3:-1])/dx)*dx/2\n",
    "    fm_2 = f[2:-2,2:-2] - s_lim((f[2:-2,2:-2]-f[2:-2,1:-3])/dx, (f[2:-2,3:-1]-f[2:-2,2:-2])/dx)*dx/2\n",
    "    \n",
    "    tmp[2:-2,2:-2] = f[2:-2,2:-2] - ((v[2:-2]>0)*v[2:-2])[:,None]*(fp_1-fp_2)*dt/dx - ((v[2:-2]<0)*v[2:-2])[:,None]*(fm_1-fm_2)*dt/dx + \\\n",
    "                    ((V_m(x[2:-2]+dx/2)-V_p(x[2:-2]-dx/2))/dx+0.1*z)[None,:]*(f[3:-1,2:-2]-f[1:-3,2:-2])*dt/(2*dv) + \\\n",
    "                    ((V_m(x[2:-2]+dx/2)-V_p(x[2:-2]-dx/2))/dx+0.1*z)[None,:]**2*(f[3:-1,2:-2]-2*f[2:-2,2:-2]+f[1:-3,2:-2])*dt**2/(2*dv**2)\n",
    "    for i in (np.searchsorted(x,0)-1, np.searchsorted(x,0)):\n",
    "        for j in np.arange(2, f.shape[0]-2):\n",
    "            if v[j] > 0:\n",
    "                f_m = f[j,i] + s_lim((f[j,i]-f[j,i-1])/dx, (f[j,i+1]-f[j,i])/dx)*dx/2\n",
    "                DV = V_p(x[i]-dx/2) - V_m(x[i]-dx/2)\n",
    "                if np.abs(DV) < EPS:\n",
    "                    f_p = f[j,i-1] + s_lim((f[j,i-1]-f[j,i-2])/dx,(f[j,i]-f[j,i-1])/dx)*dx/2\n",
    "                elif v[j]**2 + 2*DV >= 0:\n",
    "                    v_m = np.sqrt(v[j]**2 + 2*DV)\n",
    "                    k = np.searchsorted(v, v_m, side='right') - 1\n",
    "                    if k == f.shape[0]-1:\n",
    "                        f_p = 0\n",
    "                    else:\n",
    "                        f_p = (f[k,i-1]+s_lim((f[k,i-1]-f[k,i-2])/dx,(f[k,i]-f[k,i-1])/dx)*dx/2)*(v[k+1]-v_m)/dv + \\\n",
    "                        (f[k+1,i-1]+s_lim((f[k+1,i-1]-f[k+1,i-2])/dx,(f[k+1,i]-f[k+1,i-1])/dx)*dx/2)*(v_m-v[k])/dv\n",
    "                else:\n",
    "                    k = np.searchsorted(v, -v[j])\n",
    "                    f_p = f[k,i] - s_lim((f[k,i]-f[k,i-1])/dx,(f[k,i+1]-f[k,i])/dx)*dx/2\n",
    "            else:\n",
    "                f_p = f[j,i] - s_lim((f[j,i]-f[j,i-1])/dx, (f[j,i+1]-f[j,i])/dx)*dx/2\n",
    "                DV = V_m(x[i]+dx/2) - V_p(x[i]+dx/2)\n",
    "                if np.abs(DV) < EPS:\n",
    "                    f_m = f[j,i+1] - s_lim((f[j,i+1]-f[j,i])/dx, (f[j,i+2]-f[j,i+1])/dx)*dx/2\n",
    "                elif v[j]**2 + 2*DV >= 0:\n",
    "                    v_p = -np.sqrt(v[j]**2 + 2*DV)\n",
    "                    k = np.searchsorted(v, v_p, side='right') - 1\n",
    "                    if k ==0:\n",
    "                        f_m = 0\n",
    "                    else:\n",
    "                        f_m = (f[k,i+1] - s_lim((f[k,i+1]-f[k,i])/dx,(f[k,i+2]-f[k,i+1])/dx)*dx/2)*(v[k+1]-v_p)/dv + \\\n",
    "                        (f[k+1,i+1] - s_lim((f[k+1,i+1]-f[k+1,i])/dx,(f[k+1,i+2]-f[k+1,i+1])/dx)*dx/2)*(v_p-v[k])/dv\n",
    "                else:\n",
    "                    k = np.searchsorted(v, -v[j])\n",
    "                    f_m = f[k,i] + s_lim((f[k,i]-f[k,i-1])/dx,(f[k,i+1]-f[k,i])/dx)*dx/2\n",
    "                    \n",
    "            tmp[j,i] = f[j,i] - v[j]*(f_m-f_p)*dt/dx + ((V_m(x[i]+dx/2)-V_p(x[i]-dx/2))/dx+0.1*z)*(f[j+1,i]-f[j-1,i])*dt/(2*dv) + \\\n",
    "                       ((V_m(x[i]+dx/2)-V_p(x[i]-dx/2))/dx+0.1*z)**2*(f[j+1,i]-2*f[j,i]+f[j-1,i])*dt**2/(2*dv**2)\n",
    "                \n",
    "    return tmp"
   ]
  },
  {
   "cell_type": "code",
   "execution_count": 107,
   "metadata": {
    "collapsed": true
   },
   "outputs": [],
   "source": [
    "# z nodes and weights for numerical integral\n",
    "M = 20\n",
    "z, w= np.polynomial.legendre.leggauss(M)"
   ]
  },
  {
   "cell_type": "code",
   "execution_count": 110,
   "metadata": {
    "collapsed": true
   },
   "outputs": [],
   "source": [
    "# Time step\n",
    "dt = 0.002\n",
    "# Time stop\n",
    "T = 1\n",
    "# GPC order\n",
    "gpc_order = 7\n",
    "\n",
    "# Initial the function\n",
    "f = np.zeros((v.shape[0],x.shape[0],gpc_order))\n",
    "f[:,:,0] = np.array(f0(X, V), dtype = \"float64\")\n",
    "\n",
    "P = np.zeros((gpc_order,M))\n",
    "for i in np.arange(gpc_order):\n",
    "    P[i,:] = np.sqrt(2*i+1)*special.eval_legendre(i,z)\n",
    "    \n",
    "    \n",
    "tmp = np.zeros((v.shape[0],x.shape[0],M))  \n",
    "for t in np.arange(0,T,dt):\n",
    "    ftmp = f.dot(P)\n",
    "    for i in np.arange(M):\n",
    "        tmp[:,:,i] = iter_fast(ftmp[:,:,i],z[i])\n",
    "        \n",
    "    for k in np.arange(gpc_order):\n",
    "        f[:,:,k] = 0.5*(tmp*P[k][None,None,:]).dot(w)\n"
   ]
  },
  {
   "cell_type": "code",
   "execution_count": 111,
   "metadata": {
    "collapsed": true
   },
   "outputs": [],
   "source": [
    "ref_mean = f[:,:,0]\n",
    "ref_var = np.sqrt(np.einsum('ijk,ijk->ij',f[:,:,1:],f[:,:,1:]))"
   ]
  },
  {
   "cell_type": "code",
   "execution_count": null,
   "metadata": {
    "collapsed": true
   },
   "outputs": [],
   "source": [
    "# Time step\n",
    "dt = 0.002\n",
    "# Time stop\n",
    "T = 1\n",
    "# GPC order\n",
    "\n",
    "gpc_mean = []\n",
    "gpc_var = []\n",
    "\n",
    "for gpc_order in np.arange(3,20):\n",
    "    # Initial the function\n",
    "    f = np.zeros((v.shape[0],x.shape[0],gpc_order))\n",
    "    f[:,:,0] = np.array(f0(X, V), dtype = \"float64\")\n",
    "\n",
    "    P = np.zeros((gpc_order,M))\n",
    "    for i in np.arange(gpc_order):\n",
    "        P[i,:] = np.sqrt(2*i+1)*special.eval_legendre(i,z)\n",
    "\n",
    "\n",
    "    tmp = np.zeros((v.shape[0],x.shape[0],M))  \n",
    "    for t in np.arange(0,T,dt):\n",
    "        ftmp = f.dot(P)\n",
    "        for i in np.arange(M):\n",
    "            tmp[:,:,i] = iter_fast(ftmp[:,:,i],z[i])\n",
    "\n",
    "        for k in np.arange(gpc_order):\n",
    "            f[:,:,k] = 0.5*(tmp*P[k][None,None,:]).dot(w)\n",
    "            \n",
    "    \n",
    "    var = np.sqrt(np.einsum('ijk,ijk->ij',f[:,:,1:],f[:,:,1:]))\n",
    "    \n",
    "    #gpc_mean.append(linalg.norm(vec_mean - u[0], 1) / N)\n",
    "    #gpc_var.append(linalg.norm(vec_var - var, 1) / N)\n",
    "    gpc_mean.append(linalg.norm((ref_mean - f[:,:,0]).flatten(),1)*dx*dv)\n",
    "    gpc_var.append(linalg.norm((ref_var - var).flatten(),1)*dx*dv)\n"
   ]
  },
  {
   "cell_type": "code",
   "execution_count": null,
   "metadata": {
    "collapsed": true
   },
   "outputs": [],
   "source": [
    "line1, = plt.plot(np.arange(3,20,1),gpc_mean,'-o',label='Mean error')\n",
    "line2, = plt.plot(np.arange(3,20,1),gpc_var,'-*',label='Variance error')\n",
    "plt.legend(handles=[line1, line2])\n",
    "plt.xlabel('gPC order',fontsize='large')\n",
    "plt.ylabel('error',fontsize='large')\n",
    "\n",
    "plt.savefig('convergence.pdf')"
   ]
  },
  {
   "cell_type": "code",
   "execution_count": null,
   "metadata": {
    "collapsed": true
   },
   "outputs": [],
   "source": [
    "line1, = plt.semilogy(np.arange(3,20,1),gpc_mean,'-o',label='Mean convergence error')\n",
    "line2, = plt.semilogy(np.arange(3,20,1),gpc_var,'-*',label='Variance convergence error')\n",
    "plt.legend(handles=[line1, line2],loc=3)\n",
    "plt.title('Semilog error respect to reference solution')\n",
    "plt.xlabel('gPC order',fontsize='large')\n",
    "plt.ylabel('semilog error',fontsize='large')\n",
    "\n",
    "plt.savefig('semilog_conv.pdf')"
   ]
  },
  {
   "cell_type": "code",
   "execution_count": null,
   "metadata": {
    "collapsed": true
   },
   "outputs": [],
   "source": [
    "line1, = plt.loglog(np.arange(3,20,1),gpc_mean,'-o',label='Mean convergence error')\n",
    "line2, = plt.loglog(np.arange(3,20,1),gpc_var,'-*',label='Variance convergence error')\n",
    "plt.legend(handles=[line1, line2],loc=1)\n",
    "plt.title('Loglog error respect to reference solution')\n",
    "plt.xlabel('gPC order',fontsize='large')\n",
    "plt.ylabel('loglog error',fontsize='large')\n",
    "\n",
    "plt.savefig('loglog_conv.pdf')"
   ]
  },
  {
   "cell_type": "code",
   "execution_count": 114,
   "metadata": {},
   "outputs": [
    {
     "ename": "KeyboardInterrupt",
     "evalue": "",
     "output_type": "error",
     "traceback": [
      "\u001b[0;31m---------------------------------------------------------------------------\u001b[0m",
      "\u001b[0;31mKeyboardInterrupt\u001b[0m                         Traceback (most recent call last)",
      "\u001b[0;32m<ipython-input-114-764c7ceb0530>\u001b[0m in \u001b[0;36m<module>\u001b[0;34m()\u001b[0m\n\u001b[1;32m     12\u001b[0m     \u001b[0mf\u001b[0m \u001b[0;34m=\u001b[0m \u001b[0mnp\u001b[0m\u001b[0;34m.\u001b[0m\u001b[0marray\u001b[0m\u001b[0;34m(\u001b[0m\u001b[0mf0\u001b[0m\u001b[0;34m(\u001b[0m\u001b[0mX\u001b[0m\u001b[0;34m,\u001b[0m \u001b[0mV\u001b[0m\u001b[0;34m)\u001b[0m\u001b[0;34m,\u001b[0m \u001b[0mdtype\u001b[0m \u001b[0;34m=\u001b[0m \u001b[0;34m\"float64\"\u001b[0m\u001b[0;34m)\u001b[0m\u001b[0;34m\u001b[0m\u001b[0m\n\u001b[1;32m     13\u001b[0m     \u001b[0;32mfor\u001b[0m \u001b[0mt\u001b[0m \u001b[0;32min\u001b[0m \u001b[0mnp\u001b[0m\u001b[0;34m.\u001b[0m\u001b[0marange\u001b[0m\u001b[0;34m(\u001b[0m\u001b[0;36m0\u001b[0m\u001b[0;34m,\u001b[0m \u001b[0mT\u001b[0m\u001b[0;34m,\u001b[0m \u001b[0mdt\u001b[0m\u001b[0;34m)\u001b[0m\u001b[0;34m:\u001b[0m\u001b[0;34m\u001b[0m\u001b[0m\n\u001b[0;32m---> 14\u001b[0;31m         \u001b[0mf\u001b[0m \u001b[0;34m=\u001b[0m \u001b[0miter_fast\u001b[0m\u001b[0;34m(\u001b[0m\u001b[0mf\u001b[0m\u001b[0;34m,\u001b[0m\u001b[0mz\u001b[0m\u001b[0;34m[\u001b[0m\u001b[0mi\u001b[0m\u001b[0;34m]\u001b[0m\u001b[0;34m)\u001b[0m\u001b[0;34m\u001b[0m\u001b[0m\n\u001b[0m\u001b[1;32m     15\u001b[0m \u001b[0;34m\u001b[0m\u001b[0m\n\u001b[1;32m     16\u001b[0m     \u001b[0mfz\u001b[0m\u001b[0;34m[\u001b[0m\u001b[0;34m:\u001b[0m\u001b[0;34m,\u001b[0m\u001b[0;34m:\u001b[0m\u001b[0;34m,\u001b[0m\u001b[0mi\u001b[0m\u001b[0;34m]\u001b[0m \u001b[0;34m=\u001b[0m \u001b[0mnp\u001b[0m\u001b[0;34m.\u001b[0m\u001b[0mcopy\u001b[0m\u001b[0;34m(\u001b[0m\u001b[0mf\u001b[0m\u001b[0;34m)\u001b[0m\u001b[0;34m\u001b[0m\u001b[0m\n",
      "\u001b[0;32m<ipython-input-106-27422babadab>\u001b[0m in \u001b[0;36miter_fast\u001b[0;34m(f, z)\u001b[0m\n\u001b[1;32m     40\u001b[0m                     \u001b[0mf_m\u001b[0m \u001b[0;34m=\u001b[0m \u001b[0mf\u001b[0m\u001b[0;34m[\u001b[0m\u001b[0mk\u001b[0m\u001b[0;34m,\u001b[0m\u001b[0mi\u001b[0m\u001b[0;34m]\u001b[0m \u001b[0;34m+\u001b[0m \u001b[0ms_lim\u001b[0m\u001b[0;34m(\u001b[0m\u001b[0;34m(\u001b[0m\u001b[0mf\u001b[0m\u001b[0;34m[\u001b[0m\u001b[0mk\u001b[0m\u001b[0;34m,\u001b[0m\u001b[0mi\u001b[0m\u001b[0;34m]\u001b[0m\u001b[0;34m-\u001b[0m\u001b[0mf\u001b[0m\u001b[0;34m[\u001b[0m\u001b[0mk\u001b[0m\u001b[0;34m,\u001b[0m\u001b[0mi\u001b[0m\u001b[0;34m-\u001b[0m\u001b[0;36m1\u001b[0m\u001b[0;34m]\u001b[0m\u001b[0;34m)\u001b[0m\u001b[0;34m/\u001b[0m\u001b[0mdx\u001b[0m\u001b[0;34m,\u001b[0m\u001b[0;34m(\u001b[0m\u001b[0mf\u001b[0m\u001b[0;34m[\u001b[0m\u001b[0mk\u001b[0m\u001b[0;34m,\u001b[0m\u001b[0mi\u001b[0m\u001b[0;34m+\u001b[0m\u001b[0;36m1\u001b[0m\u001b[0;34m]\u001b[0m\u001b[0;34m-\u001b[0m\u001b[0mf\u001b[0m\u001b[0;34m[\u001b[0m\u001b[0mk\u001b[0m\u001b[0;34m,\u001b[0m\u001b[0mi\u001b[0m\u001b[0;34m]\u001b[0m\u001b[0;34m)\u001b[0m\u001b[0;34m/\u001b[0m\u001b[0mdx\u001b[0m\u001b[0;34m)\u001b[0m\u001b[0;34m*\u001b[0m\u001b[0mdx\u001b[0m\u001b[0;34m/\u001b[0m\u001b[0;36m2\u001b[0m\u001b[0;34m\u001b[0m\u001b[0m\n\u001b[1;32m     41\u001b[0m \u001b[0;34m\u001b[0m\u001b[0m\n\u001b[0;32m---> 42\u001b[0;31m             \u001b[0mtmp\u001b[0m\u001b[0;34m[\u001b[0m\u001b[0mj\u001b[0m\u001b[0;34m,\u001b[0m\u001b[0mi\u001b[0m\u001b[0;34m]\u001b[0m \u001b[0;34m=\u001b[0m \u001b[0mf\u001b[0m\u001b[0;34m[\u001b[0m\u001b[0mj\u001b[0m\u001b[0;34m,\u001b[0m\u001b[0mi\u001b[0m\u001b[0;34m]\u001b[0m \u001b[0;34m-\u001b[0m \u001b[0mv\u001b[0m\u001b[0;34m[\u001b[0m\u001b[0mj\u001b[0m\u001b[0;34m]\u001b[0m\u001b[0;34m*\u001b[0m\u001b[0;34m(\u001b[0m\u001b[0mf_m\u001b[0m\u001b[0;34m-\u001b[0m\u001b[0mf_p\u001b[0m\u001b[0;34m)\u001b[0m\u001b[0;34m*\u001b[0m\u001b[0mdt\u001b[0m\u001b[0;34m/\u001b[0m\u001b[0mdx\u001b[0m \u001b[0;34m+\u001b[0m \u001b[0;34m(\u001b[0m\u001b[0;34m(\u001b[0m\u001b[0mV_m\u001b[0m\u001b[0;34m(\u001b[0m\u001b[0mx\u001b[0m\u001b[0;34m[\u001b[0m\u001b[0mi\u001b[0m\u001b[0;34m]\u001b[0m\u001b[0;34m+\u001b[0m\u001b[0mdx\u001b[0m\u001b[0;34m/\u001b[0m\u001b[0;36m2\u001b[0m\u001b[0;34m)\u001b[0m\u001b[0;34m-\u001b[0m\u001b[0mV_p\u001b[0m\u001b[0;34m(\u001b[0m\u001b[0mx\u001b[0m\u001b[0;34m[\u001b[0m\u001b[0mi\u001b[0m\u001b[0;34m]\u001b[0m\u001b[0;34m-\u001b[0m\u001b[0mdx\u001b[0m\u001b[0;34m/\u001b[0m\u001b[0;36m2\u001b[0m\u001b[0;34m)\u001b[0m\u001b[0;34m)\u001b[0m\u001b[0;34m/\u001b[0m\u001b[0mdx\u001b[0m\u001b[0;34m+\u001b[0m\u001b[0;36m0.1\u001b[0m\u001b[0;34m*\u001b[0m\u001b[0mz\u001b[0m\u001b[0;34m)\u001b[0m\u001b[0;34m*\u001b[0m\u001b[0;34m(\u001b[0m\u001b[0mf\u001b[0m\u001b[0;34m[\u001b[0m\u001b[0mj\u001b[0m\u001b[0;34m+\u001b[0m\u001b[0;36m1\u001b[0m\u001b[0;34m,\u001b[0m\u001b[0mi\u001b[0m\u001b[0;34m]\u001b[0m\u001b[0;34m-\u001b[0m\u001b[0mf\u001b[0m\u001b[0;34m[\u001b[0m\u001b[0mj\u001b[0m\u001b[0;34m-\u001b[0m\u001b[0;36m1\u001b[0m\u001b[0;34m,\u001b[0m\u001b[0mi\u001b[0m\u001b[0;34m]\u001b[0m\u001b[0;34m)\u001b[0m\u001b[0;34m*\u001b[0m\u001b[0mdt\u001b[0m\u001b[0;34m/\u001b[0m\u001b[0;34m(\u001b[0m\u001b[0;36m2\u001b[0m\u001b[0;34m*\u001b[0m\u001b[0mdv\u001b[0m\u001b[0;34m)\u001b[0m \u001b[0;34m+\u001b[0m                        \u001b[0;34m(\u001b[0m\u001b[0;34m(\u001b[0m\u001b[0mV_m\u001b[0m\u001b[0;34m(\u001b[0m\u001b[0mx\u001b[0m\u001b[0;34m[\u001b[0m\u001b[0mi\u001b[0m\u001b[0;34m]\u001b[0m\u001b[0;34m+\u001b[0m\u001b[0mdx\u001b[0m\u001b[0;34m/\u001b[0m\u001b[0;36m2\u001b[0m\u001b[0;34m)\u001b[0m\u001b[0;34m-\u001b[0m\u001b[0mV_p\u001b[0m\u001b[0;34m(\u001b[0m\u001b[0mx\u001b[0m\u001b[0;34m[\u001b[0m\u001b[0mi\u001b[0m\u001b[0;34m]\u001b[0m\u001b[0;34m-\u001b[0m\u001b[0mdx\u001b[0m\u001b[0;34m/\u001b[0m\u001b[0;36m2\u001b[0m\u001b[0;34m)\u001b[0m\u001b[0;34m)\u001b[0m\u001b[0;34m/\u001b[0m\u001b[0mdx\u001b[0m\u001b[0;34m+\u001b[0m\u001b[0;36m0.1\u001b[0m\u001b[0;34m*\u001b[0m\u001b[0mz\u001b[0m\u001b[0;34m)\u001b[0m\u001b[0;34m**\u001b[0m\u001b[0;36m2\u001b[0m\u001b[0;34m*\u001b[0m\u001b[0;34m(\u001b[0m\u001b[0mf\u001b[0m\u001b[0;34m[\u001b[0m\u001b[0mj\u001b[0m\u001b[0;34m+\u001b[0m\u001b[0;36m1\u001b[0m\u001b[0;34m,\u001b[0m\u001b[0mi\u001b[0m\u001b[0;34m]\u001b[0m\u001b[0;34m-\u001b[0m\u001b[0;36m2\u001b[0m\u001b[0;34m*\u001b[0m\u001b[0mf\u001b[0m\u001b[0;34m[\u001b[0m\u001b[0mj\u001b[0m\u001b[0;34m,\u001b[0m\u001b[0mi\u001b[0m\u001b[0;34m]\u001b[0m\u001b[0;34m+\u001b[0m\u001b[0mf\u001b[0m\u001b[0;34m[\u001b[0m\u001b[0mj\u001b[0m\u001b[0;34m-\u001b[0m\u001b[0;36m1\u001b[0m\u001b[0;34m,\u001b[0m\u001b[0mi\u001b[0m\u001b[0;34m]\u001b[0m\u001b[0;34m)\u001b[0m\u001b[0;34m*\u001b[0m\u001b[0mdt\u001b[0m\u001b[0;34m**\u001b[0m\u001b[0;36m2\u001b[0m\u001b[0;34m/\u001b[0m\u001b[0;34m(\u001b[0m\u001b[0;36m2\u001b[0m\u001b[0;34m*\u001b[0m\u001b[0mdv\u001b[0m\u001b[0;34m**\u001b[0m\u001b[0;36m2\u001b[0m\u001b[0;34m)\u001b[0m\u001b[0;34m\u001b[0m\u001b[0m\n\u001b[0m\u001b[1;32m     43\u001b[0m \u001b[0;34m\u001b[0m\u001b[0m\n\u001b[1;32m     44\u001b[0m     \u001b[0;32mreturn\u001b[0m \u001b[0mtmp\u001b[0m\u001b[0;34m\u001b[0m\u001b[0m\n",
      "\u001b[0;32m<ipython-input-104-baf5ee1df5a5>\u001b[0m in \u001b[0;36mV_m\u001b[0;34m(x)\u001b[0m\n\u001b[1;32m      1\u001b[0m \u001b[0;31m# Potential\u001b[0m\u001b[0;34m\u001b[0m\u001b[0;34m\u001b[0m\u001b[0m\n\u001b[1;32m      2\u001b[0m \u001b[0;32mdef\u001b[0m \u001b[0mV_m\u001b[0m\u001b[0;34m(\u001b[0m\u001b[0mx\u001b[0m\u001b[0;34m)\u001b[0m\u001b[0;34m:\u001b[0m\u001b[0;34m\u001b[0m\u001b[0m\n\u001b[0;32m----> 3\u001b[0;31m     \u001b[0;32mreturn\u001b[0m \u001b[0;36m0.2\u001b[0m\u001b[0;34m*\u001b[0m\u001b[0;34m(\u001b[0m\u001b[0mx\u001b[0m\u001b[0;34m<\u001b[0m\u001b[0mEPS\u001b[0m\u001b[0;34m)\u001b[0m\u001b[0;34m\u001b[0m\u001b[0m\n\u001b[0m\u001b[1;32m      4\u001b[0m \u001b[0;34m\u001b[0m\u001b[0m\n\u001b[1;32m      5\u001b[0m \u001b[0;32mdef\u001b[0m \u001b[0mV_p\u001b[0m\u001b[0;34m(\u001b[0m\u001b[0mx\u001b[0m\u001b[0;34m)\u001b[0m\u001b[0;34m:\u001b[0m\u001b[0;34m\u001b[0m\u001b[0m\n",
      "\u001b[0;31mKeyboardInterrupt\u001b[0m: "
     ]
    }
   ],
   "source": [
    "# Time step\n",
    "dt = 0.002\n",
    "# Time stop\n",
    "T = 1\n",
    "\n",
    "# Initial the function\n",
    "f = np.array(f0(X, V), dtype = \"float64\")\n",
    "\n",
    "fz = np.zeros((v.shape[0],x.shape[0],M))\n",
    "\n",
    "for i in np.arange(M):\n",
    "    f = np.array(f0(X, V), dtype = \"float64\")\n",
    "    for t in np.arange(0, T, dt):\n",
    "        f = iter_fast(f,z[i])\n",
    "    \n",
    "    fz[:,:,i] = np.copy(f) "
   ]
  },
  {
   "cell_type": "code",
   "execution_count": 95,
   "metadata": {
    "collapsed": true
   },
   "outputs": [],
   "source": [
    "# Time step\n",
    "dt = 0.001\n",
    "# Time stop\n",
    "T = 1\n",
    "\n",
    "# Initial the function\n",
    "f = np.array(f0(X, V), dtype = \"float64\")\n",
    "\n",
    "fz = np.zeros((v.shape[0],x.shape[0],M))\n",
    "\n",
    "\n",
    "#tmp = np.zeros(f.shape)\n",
    "for t in np.arange(0, T, dt):\n",
    "    f = iter_fast(f,0)"
   ]
  },
  {
   "cell_type": "code",
   "execution_count": 112,
   "metadata": {},
   "outputs": [
    {
     "data": {
      "image/png": "[encoded data removed]",
      "text/plain": [
       "<matplotlib.figure.Figure at 0x112a08898>"
      ]
     },
     "metadata": {},
     "output_type": "display_data"
    }
   ],
   "source": [
    "plt.contourf(X,V,ref_mean)\n",
    "plt.savefig('mean.pdf')"
   ]
  },
  {
   "cell_type": "code",
   "execution_count": 113,
   "metadata": {},
   "outputs": [
    {
     "data": {
      "image/png": "[encoded data removed]",
      "text/plain": [
       "<matplotlib.figure.Figure at 0x1128b4588>"
      ]
     },
     "metadata": {},
     "output_type": "display_data"
    }
   ],
   "source": [
    "plt.contourf(X,V,ref_var)\n",
    "plt.savefig('var.pdf')"
   ]
  },
  {
   "cell_type": "code",
   "execution_count": 71,
   "metadata": {},
   "outputs": [
    {
     "data": {
      "text/plain": [
       "0.0010112359550561798"
      ]
     },
     "execution_count": 71,
     "metadata": {},
     "output_type": "execute_result"
    }
   ],
   "source": [
    "1/(1.5/0.015+0.2/(0.015**2))"
   ]
  },
  {
   "cell_type": "code",
   "execution_count": 87,
   "metadata": {},
   "outputs": [
    {
     "name": "stderr",
     "output_type": "stream",
     "text": [
      "/Users/zheng/anaconda/lib/python3.5/site-packages/ipykernel/__main__.py:6: RuntimeWarning: invalid value encountered in sqrt\n",
      "/Users/zheng/anaconda/lib/python3.5/site-packages/ipykernel/__main__.py:6: RuntimeWarning: invalid value encountered in greater\n",
      "/Users/zheng/anaconda/lib/python3.5/site-packages/ipykernel/__main__.py:6: RuntimeWarning: invalid value encountered in less\n",
      "/Users/zheng/anaconda/lib/python3.5/site-packages/ipykernel/__main__.py:7: RuntimeWarning: invalid value encountered in sqrt\n",
      "/Users/zheng/anaconda/lib/python3.5/site-packages/ipykernel/__main__.py:7: RuntimeWarning: invalid value encountered in greater\n"
     ]
    }
   ],
   "source": [
    "err50 = linalg.norm((f-f1(X,V)).flatten(),1)*0.06**2"
   ]
  },
  {
   "cell_type": "code",
   "execution_count": 56,
   "metadata": {},
   "outputs": [
    {
     "data": {
      "text/plain": [
       "0.16506555621877422"
      ]
     },
     "execution_count": 56,
     "metadata": {},
     "output_type": "execute_result"
    }
   ],
   "source": [
    "err100"
   ]
  },
  {
   "cell_type": "code",
   "execution_count": 73,
   "metadata": {},
   "outputs": [
    {
     "data": {
      "text/plain": [
       "0.094496381625101197"
      ]
     },
     "execution_count": 73,
     "metadata": {},
     "output_type": "execute_result"
    }
   ],
   "source": [
    "err200"
   ]
  },
  {
   "cell_type": "code",
   "execution_count": 88,
   "metadata": {},
   "outputs": [
    {
     "data": {
      "text/plain": [
       "0.28798291460221398"
      ]
     },
     "execution_count": 88,
     "metadata": {},
     "output_type": "execute_result"
    }
   ],
   "source": [
    "err50"
   ]
  },
  {
   "cell_type": "code",
   "execution_count": 118,
   "metadata": {
    "collapsed": true
   },
   "outputs": [],
   "source": [
    "r = np.load('collocation.npy')\n",
    "col_mean = 0.5*r.dot(w)\n",
    "col_var = np.sqrt(0.5*(r**2).dot(w)-col_mean**2)"
   ]
  },
  {
   "cell_type": "code",
   "execution_count": 121,
   "metadata": {},
   "outputs": [
    {
     "data": {
      "image/png": "[encoded data removed]",
      "text/plain": [
       "<matplotlib.figure.Figure at 0x110d192e8>"
      ]
     },
     "metadata": {},
     "output_type": "display_data"
    }
   ],
   "source": [
    "plt.contourf(X,V,col_var)\n",
    "plt.savefig('col_var.pdf')"
   ]
  },
  {
   "cell_type": "code",
   "execution_count": 122,
   "metadata": {},
   "outputs": [
    {
     "data": {
      "image/png": "[encoded data removed]",
      "text/plain": [
       "<matplotlib.figure.Figure at 0x112a32780>"
      ]
     },
     "metadata": {},
     "output_type": "display_data"
    }
   ],
   "source": [
    "plt.contourf(X,V,col_mean)\n",
    "plt.savefig('col_mean.pdf')"
   ]
  },
  {
   "cell_type": "code",
   "execution_count": 36,
   "metadata": {
    "scrolled": true
   },
   "outputs": [
    {
     "data": {
      "text/plain": [
       "5.5556084521988117e-06"
      ]
     },
     "execution_count": 36,
     "metadata": {},
     "output_type": "execute_result"
    }
   ],
   "source": [
    "linalg.norm((f[:,:,0]-0.5*r.dot(w).flatten(),1)*0.03**2"
   ]
  },
  {
   "cell_type": "code",
   "execution_count": 102,
   "metadata": {
    "scrolled": true
   },
   "outputs": [
    {
     "data": {
      "text/plain": [
       "array([[[ 0,  1,  2,  3],\n",
       "        [ 4,  5,  6,  7],\n",
       "        [ 8,  9, 10, 11]],\n",
       "\n",
       "       [[12, 13, 14, 15],\n",
       "        [16, 17, 18, 19],\n",
       "        [20, 21, 22, 23]]])"
      ]
     },
     "execution_count": 102,
     "metadata": {},
     "output_type": "execute_result"
    }
   ],
   "source": [
    "a"
   ]
  },
  {
   "cell_type": "code",
   "execution_count": 101,
   "metadata": {},
   "outputs": [
    {
     "data": {
      "text/plain": [
       "array([[ 14,  38,  62],\n",
       "       [ 86, 110, 134]])"
      ]
     },
     "execution_count": 101,
     "metadata": {},
     "output_type": "execute_result"
    }
   ],
   "source": [
    "a.dot(b)"
   ]
  },
  {
   "cell_type": "code",
   "execution_count": 92,
   "metadata": {},
   "outputs": [
    {
     "data": {
      "text/plain": [
       "<matplotlib.contour.QuadContourSet at 0x10fd71c88>"
      ]
     },
     "execution_count": 92,
     "metadata": {},
     "output_type": "execute_result"
    },
    {
     "data": {
      "image/png": "[encoded data removed]",
      "text/plain": [
       "<matplotlib.figure.Figure at 0x10fd08320>"
      ]
     },
     "metadata": {},
     "output_type": "display_data"
    }
   ],
   "source": [
    "plt.contourf(X, V, q)"
   ]
  },
  {
   "cell_type": "code",
   "execution_count": 80,
   "metadata": {},
   "outputs": [
    {
     "data": {
      "text/plain": [
       "0.88500000000000223"
      ]
     },
     "execution_count": 80,
     "metadata": {},
     "output_type": "execute_result"
    }
   ],
   "source": [
    "v[80]"
   ]
  },
  {
   "cell_type": "code",
   "execution_count": 40,
   "metadata": {},
   "outputs": [
    {
     "data": {
      "text/plain": [
       "[<matplotlib.lines.Line2D at 0x10e883320>]"
      ]
     },
     "execution_count": 40,
     "metadata": {},
     "output_type": "execute_result"
    },
    {
     "data": {
      "image/png": "[encoded data removed]",
      "text/plain": [
       "<matplotlib.figure.Figure at 0x10e791cc0>"
      ]
     },
     "metadata": {},
     "output_type": "display_data"
    }
   ],
   "source": [
    "plt.plot(x, f[80])"
   ]
  },
  {
   "cell_type": "code",
   "execution_count": 55,
   "metadata": {},
   "outputs": [
    {
     "name": "stderr",
     "output_type": "stream",
     "text": [
      "/Users/zheng/anaconda/lib/python3.5/site-packages/ipykernel/__main__.py:6: RuntimeWarning: invalid value encountered in sqrt\n",
      "/Users/zheng/anaconda/lib/python3.5/site-packages/ipykernel/__main__.py:6: RuntimeWarning: invalid value encountered in greater\n",
      "/Users/zheng/anaconda/lib/python3.5/site-packages/ipykernel/__main__.py:6: RuntimeWarning: invalid value encountered in less\n",
      "/Users/zheng/anaconda/lib/python3.5/site-packages/ipykernel/__main__.py:7: RuntimeWarning: invalid value encountered in sqrt\n",
      "/Users/zheng/anaconda/lib/python3.5/site-packages/ipykernel/__main__.py:7: RuntimeWarning: invalid value encountered in greater\n"
     ]
    },
    {
     "data": {
      "text/plain": [
       "0.1604624860931097"
      ]
     },
     "execution_count": 55,
     "metadata": {},
     "output_type": "execute_result"
    }
   ],
   "source": [
    "linalg.norm((f-f1(X,V)).flatten(),1)*0.03**2"
   ]
  },
  {
   "cell_type": "code",
   "execution_count": 21,
   "metadata": {
    "collapsed": true
   },
   "outputs": [],
   "source": [
    "# Time step\n",
    "dt = 0.01\n",
    "# Time stop\n",
    "T = 1\n",
    "\n",
    "# Initial the function\n",
    "f = np.array(f0(X, V), dtype = \"float64\")\n",
    "\n",
    "tmp = np.zeros(f.shape)\n",
    "for t in np.arange(0, T, dt):\n",
    "    for i in np.arange(1, f.shape[1]-1):\n",
    "        for j in np.arange(1, f.shape[0]-1):\n",
    "            if v[j] > 0:\n",
    "                f_m = f[j,i]\n",
    "                DV = V_p(x[i]-dx/2) - V_m(x[i]-dx/2)\n",
    "                if np.abs(DV) < EPS:\n",
    "                    f_p = f[j,i-1]\n",
    "                elif v[j]**2 + 2*DV >= 0:\n",
    "                    v_m = np.sqrt(v[j]**2 + 2*DV)\n",
    "                    k = np.searchsorted(v, v_m, side='right') - 1\n",
    "                    if k == f.shape[0]-1:\n",
    "                        f_p = 0\n",
    "                    else:\n",
    "                        f_p = f[k,i-1]*(v[k+1]-v_m)/dv + f[k+1,i-1]*(v_m-v[k])/dv\n",
    "                else:\n",
    "                    f_p = f[np.searchsorted(v, -v[j]),i]\n",
    "            else:\n",
    "                f_p = f[j,i]\n",
    "                DV = V_m(x[i]+dx/2) - V_p(x[i]+dx/2)\n",
    "                if np.abs(DV) < EPS:\n",
    "                    f_m = f[j,i+1]\n",
    "                elif v[j]**2 + 2*DV >= 0:\n",
    "                    v_p = -np.sqrt(v[j]**2 + 2*DV)\n",
    "                    k = np.searchsorted(v, v_p, side='right') - 1\n",
    "                    if k ==0:\n",
    "                        f_m = 0\n",
    "                    else:\n",
    "                        f_m = f[k,i+1]*(v[k+1]-v_p)/dv + f[k+1,i+1]*(v_p-v[k])/dv\n",
    "                else:\n",
    "                    f_m = f[np.searchsorted(v, -v[j]),i]\n",
    "                    \n",
    "            tmp[j,i] = f[j,i] - v[j]*(f_m-f_p)*dt/dx + (V_m(x[i]+dx/2)-V_p(x[i]-dx/2)>0)*(V_m(x[i]+dx/2)-V_p(x[i]-dx/2))*(f[j+1,i]-f[j,i])*dt/(dx*dv) \\\n",
    "                    + (V_m(x[i]+dx/2)-V_p(x[i]-dx/2)<0)*(V_m(x[i]+dx/2)-V_p(x[i]-dx/2))*(f[j,i]-f[j-1,i])*dt/(dx*dv)\n",
    "    \n",
    "    f[:,:] = tmp[:,:]"
   ]
  },
  {
   "cell_type": "code",
   "execution_count": 23,
   "metadata": {},
   "outputs": [
    {
     "data": {
      "text/plain": [
       "<matplotlib.contour.QuadContourSet at 0x10e209588>"
      ]
     },
     "execution_count": 23,
     "metadata": {},
     "output_type": "execute_result"
    },
    {
     "data": {
      "image/png": "[encoded data removed]",
      "text/plain": [
       "<matplotlib.figure.Figure at 0x10e034400>"
      ]
     },
     "metadata": {},
     "output_type": "display_data"
    }
   ],
   "source": [
    "plt.contourf(X, V, f)"
   ]
  },
  {
   "cell_type": "code",
   "execution_count": 91,
   "metadata": {},
   "outputs": [
    {
     "name": "stderr",
     "output_type": "stream",
     "text": [
      "/Users/zheng/anaconda/lib/python3.5/site-packages/ipykernel/__main__.py:6: RuntimeWarning: invalid value encountered in sqrt\n",
      "/Users/zheng/anaconda/lib/python3.5/site-packages/ipykernel/__main__.py:6: RuntimeWarning: invalid value encountered in greater\n",
      "/Users/zheng/anaconda/lib/python3.5/site-packages/ipykernel/__main__.py:6: RuntimeWarning: invalid value encountered in less\n",
      "/Users/zheng/anaconda/lib/python3.5/site-packages/ipykernel/__main__.py:7: RuntimeWarning: invalid value encountered in sqrt\n",
      "/Users/zheng/anaconda/lib/python3.5/site-packages/ipykernel/__main__.py:7: RuntimeWarning: invalid value encountered in greater\n"
     ]
    },
    {
     "data": {
      "text/plain": [
       "0.32439332273119514"
      ]
     },
     "execution_count": 91,
     "metadata": {},
     "output_type": "execute_result"
    }
   ],
   "source": [
    "linalg.norm((f-f1(X,V)).flatten(),1)"
   ]
  },
  {
   "cell_type": "code",
   "execution_count": null,
   "metadata": {
    "collapsed": true
   },
   "outputs": [],
   "source": [
    "# Time step\n",
    "dt = 0.01\n",
    "# Time stop\n",
    "T = 1\n",
    "\n",
    "# Initial the function\n",
    "f = np.array(f0(X, V), dtype = \"float64\")\n",
    "\n",
    "for j in np.arange(f.shape[1]):\n",
    "    for i in np.arange(f.shape[0]):\n",
    "        if v[i] > 0:\n",
    "            rows_m[i,j], cols_m[i,j] = i, j\n",
    "            DV = V_p(x[j]+dx/2) - V_m(x[j]+dx/2)\n",
    "            if v[i]**2 + 2*DV >= 0:\n",
    "                v_m = np.sqrt(v[i]**2 + 2*DV)\n",
    "                rows_p[i,j], cols_p[i,j] = np.searchsorted(v, v_m), j\n",
    "            else:\n",
    "                rows_p[i,j], cols_p[i,j] = np.searchsorted(v, -v[i]), j\n",
    "        else:\n",
    "            rows_p[i,j], cols_p[i,j] = i, j\n",
    "            \n",
    "            \n",
    "            \n",
    "\n",
    "# Iteration\n",
    "for t in np.arange(0, T, dt):\n",
    "    f[:,:] = f[:,:] - V*(f[rows_m, cols_m]-f[rows_p, cols_p])/dx  + \\\n",
    "            (P(X+0.5*dx-EPS)-P(X-0.5*dx+EPS)>0)*P(X+0.5*dx-EPS)-P(X-0.5*dx+EPS)*(f[:,:]-f[:,]) + \\\n",
    "            (P(X+0.5*dx-EPS)-P(X-0.5*dx+EPS)<0)*P(X+0.5*dx-EPS)-P(X-0.5*dx+EPS)*(f[:,:]-f[:,])     "
   ]
  }
 ],
 "metadata": {
  "kernelspec": {
   "display_name": "Python 3",
   "language": "python",
   "name": "python3"
  },
  "language_info": {
   "codemirror_mode": {
    "name": "ipython",
    "version": 3
   },
   "file_extension": ".py",
   "mimetype": "text/x-python",
   "name": "python",
   "nbconvert_exporter": "python",
   "pygments_lexer": "ipython3",
   "version": "3.6.1"
  }
 },
 "nbformat": 4,
 "nbformat_minor": 1
}
