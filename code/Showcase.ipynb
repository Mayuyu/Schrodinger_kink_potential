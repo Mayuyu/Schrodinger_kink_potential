{
 "cells": [
  {
   "cell_type": "code",
   "execution_count": 3,
   "metadata": {
    "collapsed": true
   },
   "outputs": [],
   "source": [
    "%matplotlib inline\n",
    "import numpy as np\n",
    "import matplotlib.pyplot as plt\n",
    "from matplotlib.patches import Polygon"
   ]
  },
  {
   "cell_type": "code",
   "execution_count": 117,
   "metadata": {
    "collapsed": false
   },
   "outputs": [
    {
     "data": {
      "image/png": "[encoded data removed]",
      "text/plain": [
       "<matplotlib.figure.Figure at 0x111670828>"
      ]
     },
     "metadata": {},
     "output_type": "display_data"
    }
   ],
   "source": [
    "\"\"\"\n",
    "Plot demonstrating the integral as the area under a curve.\n",
    "\n",
    "Although this is a simple example, it demonstrates some important tweaks:\n",
    "\n",
    "    * A simple line plot with custom color and line width.\n",
    "    * A shaded region created using a Polygon patch.\n",
    "    * A text label with mathtext rendering.\n",
    "    * figtext calls to label the x- and y-axes.\n",
    "    * Use of axis spines to hide the top and right spines.\n",
    "    * Custom tick placement and labels.\n",
    "\"\"\"\n",
    "def func1(x):\n",
    "    return x\n",
    "\n",
    "def func2(x):\n",
    "    return 12 - 0.5 * x\n",
    "\n",
    "\n",
    "a, b = 4, 6  # integral limits\n",
    "x1 = np.linspace(4, 8)\n",
    "x2 = np.linspace(8, 12)\n",
    "y1 = func1(x1)\n",
    "y2 = func2(x2)\n",
    "\n",
    "fig, ax = plt.subplots()\n",
    "plt.plot(x1, y1, 'k', x2, y2, 'k')\n",
    "plt.xlim(xmin=0, xmax=16)\n",
    "plt.ylim(ymin=0, ymax=10)\n",
    "\n",
    "# Make the shaded region\n",
    "verts1 = [(4, 0)] + [(4, func1(4))]\n",
    "verts2 = [(8, 0)] + [(8, 8)]\n",
    "verts3 = [(12, 0)] + [(12, 6)]\n",
    "verts4 = [(6, 0)] + [(6, 6)]\n",
    "verts5 = [(10, 0)] + [(10, 7)]\n",
    "verts7 = [(0, 7)] + [(10, 7)]\n",
    "verts8 = [(0, 6)] + [(6, 6)]\n",
    "line1 = Polygon(verts1, closed=False)\n",
    "line2 = Polygon(verts2, closed=False)\n",
    "line3 = Polygon(verts3, closed=False)\n",
    "line4 = Polygon(verts4, closed=False, ls='dashed')\n",
    "line5 = Polygon(verts5, closed=False, ls='dashed')\n",
    "line7 = Polygon(verts7, closed=False, ls='dashed')\n",
    "line8 = Polygon(verts8, closed=False, ls='dashed')\n",
    "ax.add_patch(line1)\n",
    "ax.add_patch(line2)\n",
    "ax.add_patch(line3)\n",
    "ax.add_patch(line4)\n",
    "ax.add_patch(line5)\n",
    "ax.add_patch(line7)\n",
    "ax.add_patch(line8)\n",
    "\n",
    "ax.annotate('$V_{j-1/2}$', xy=(4, 4), xycoords='data', xytext=(-18, 10), textcoords='offset points')\n",
    "ax.annotate('$V_{j+1/2}$', xy=(8, 8), xycoords='data', xytext=(-10, 10), textcoords='offset points')\n",
    "ax.annotate('$V_{j+3/2}$', xy=(12, 6), xycoords='data', xytext=(5, 0), textcoords='offset points')\n",
    "\n",
    "#plt.text(0.5 * (a + b), 30, r\"$\\int_a^b f(x)\\mathrm{d}x$\",\n",
    "#         horizontalalignment='center', fontsize=20)\n",
    "\n",
    "plt.figtext(0.9, 0.05, '$x$')\n",
    "plt.figtext(0.05, 0.9, '$V(x)$')\n",
    "\n",
    "ax.spines['right'].set_visible(False)\n",
    "ax.spines['top'].set_visible(False)\n",
    "ax.xaxis.set_ticks_position('bottom')\n",
    "ax.yaxis.set_ticks_position('left')\n",
    "\n",
    "ax.set_xticks((4, 6, 8, 10, 12))\n",
    "ax.set_xticklabels(('$x_{j-1/2}$', '$x_j$', '$x_{j+1/2}$', '$x_{j+1}$', '$x_{j+3/2}$'))\n",
    "ax.set_yticks((6, 7))\n",
    "ax.set_yticklabels(('$V_j$', '$V_{j+1}$'))\n",
    "\n",
    "plt.savefig('showcase.pdf')"
   ]
  }
 ],
 "metadata": {
  "kernelspec": {
   "display_name": "Python 3",
   "language": "python",
   "name": "python3"
  },
  "language_info": {
   "codemirror_mode": {
    "name": "ipython",
    "version": 3
   },
   "file_extension": ".py",
   "mimetype": "text/x-python",
   "name": "python",
   "nbconvert_exporter": "python",
   "pygments_lexer": "ipython3",
   "version": "3.5.0"
  }
 },
 "nbformat": 4,
 "nbformat_minor": 0
}
